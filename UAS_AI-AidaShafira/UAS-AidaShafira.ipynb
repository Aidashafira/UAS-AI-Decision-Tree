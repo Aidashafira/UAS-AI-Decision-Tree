{
 "cells": [
  {
   "cell_type": "code",
   "execution_count": 9,
   "metadata": {},
   "outputs": [],
   "source": [
    "import sys, argparse, pickle, os\n",
    "from sklearn.model_selection import train_test_split\n",
    "from sklearn.feature_extraction.text import CountVectorizer\n",
    "from sklearn.feature_extraction.text import TfidfTransformer\n",
    "from sklearn.naive_bayes import MultinomialNB\n",
    "from sklearn.linear_model import LogisticRegression\n",
    "from sklearn.ensemble import RandomForestClassifier\n",
    "from sklearn.pipeline import Pipeline"
   ]
  },
  {
   "cell_type": "code",
   "execution_count": 10,
   "metadata": {},
   "outputs": [],
   "source": [
    "def main(args):\n",
    "    if(args.ml == 'LG'):\n",
    "        result = predict_lg(args.name, args.train)\n",
    "        ml_type = 'Logistic Regression'\n",
    "    elif(args.ml == 'RF'):\n",
    "        result = predict_rf(args.name, args.train)\n",
    "        ml_type = 'Random Forest'\n",
    "    else:\n",
    "        result = predict_nb(args.name, args.train)\n",
    "        ml_type = 'Naive Bayes'\n",
    "    \n",
    "    \n",
    "    print (\"Prediksi jenis kelamin dengan\", ml_type, \":\")\n",
    "    jk_label = {1:\"Pria\", 0:\"Wanita\"}\n",
    "    print(args.name, ' : ', jk_label[result])"
   ]
  },
  {
   "cell_type": "code",
   "execution_count": 11,
   "metadata": {},
   "outputs": [],
   "source": [
    "# load dataset\n",
    "def load_data(dataset=\"./data/data.csv\"):\n",
    "    df = pd.read_csv(dataset, encoding = 'utf-8-sig')\n",
    "    df = df.dropna(how='all')\n",
    "    \n",
    "    jk_map = {\"Laki-Laki\" : 1, \"Perempuan\" : 0}\n",
    "    df[\"jenis_kelamin\"] = df[\"jenis_kelamin\"].map(jk_map)\n",
    "\n",
    "    feature_col_names = [\"nama\"]\n",
    "    predicted_class_names = [\"jenis_kelamin\"]\n",
    "    X = df[feature_col_names].values     \n",
    "    y = df[predicted_class_names].values \n",
    "    \n",
    "    #split train:test data 70:30\n",
    "    split_test_size = 0.30\n",
    "    text_train, text_test, y_train, y_test = train_test_split(X, y, test_size=split_test_size, stratify=y, random_state=42) \n",
    "    \n",
    "    return (text_train, text_test, y_train, y_test)"
   ]
  },
  {
   "cell_type": "code",
   "execution_count": 12,
   "metadata": {},
   "outputs": [],
   "source": [
    "def predict_nb(name, dataset):\n",
    "    if os.path.isfile(\"./data/pipe_nb.pkl\") and dataset is None:        \n",
    "        file_nb = open('./data/pipe_nb.pkl', 'rb')\n",
    "        pipe_nb = pickle.load(file_nb)\n",
    "    else:\n",
    "        file_nb = open('./data/pipe_nb.pkl', 'wb')\n",
    "        pipe_nb = Pipeline([('vect', CountVectorizer(analyzer = 'char_wb', ngram_range=(2,6))),\n",
    "                            ('tfidf', TfidfTransformer()),\n",
    "                            ('clf', MultinomialNB())])       \n",
    "        #train and dump to file                     \n",
    "        dataset = load_data(dataset)\n",
    "        pipe_nb = pipe_nb.fit(dataset[0].ravel(), dataset[2].ravel())\n",
    "        pickle.dump(pipe_nb, file_nb)\n",
    "        \n",
    "        #Akurasi\n",
    "        predicted = pipe_nb.predict(dataset[1].ravel())\n",
    "        Akurasi = np.mean(predicted == dataset[3].ravel())*100\n",
    "        print(\"Akurasi :\", Akurasi, \"%\")\n",
    "    \n",
    "    return pipe_nb.predict([name])[0]"
   ]
  },
  {
   "cell_type": "code",
   "execution_count": 13,
   "metadata": {},
   "outputs": [],
   "source": [
    "def predict_lg(name, dataset):\n",
    "    if os.path.isfile(\"./data/pipe_lg.pkl\") and dataset is None:        \n",
    "        file_lg = open('./data/pipe_lg.pkl', 'rb')\n",
    "        pipe_lg = pickle.load(file_lg)\n",
    "    else:\n",
    "        file_lg = open('./data/pipe_lg.pkl', 'wb')\n",
    "        pipe_lg = Pipeline([('vect', CountVectorizer(analyzer = 'char_wb', ngram_range=(2,6))),\n",
    "                            ('tfidf', TfidfTransformer()),\n",
    "                            ('clf', LogisticRegression())])        \n",
    "        dataset = load_data(dataset)\n",
    "        pipe_lg = pipe_lg.fit(dataset[0].ravel(), dataset[2].ravel())\n",
    "        pickle.dump(pipe_lg, file_lg)\n",
    "\n",
    "        #Akurasi\n",
    "        predicted = pipe_lg.predict(dataset[1].ravel())\n",
    "        Akurasi = np.mean(predicted == dataset[3].ravel())*100\n",
    "        print(\"Akurasi :\", Akurasi, \"%\")\n",
    "    \n",
    "    return pipe_lg.predict([name])[0]\n"
   ]
  },
  {
   "cell_type": "code",
   "execution_count": 14,
   "metadata": {},
   "outputs": [],
   "source": [
    "def predict_rf(name, dataset):\n",
    "    if os.path.isfile(\"./data/pipe_rf.pkl\") and dataset is None:         \n",
    "        file_rf = open('./data/pipe_rf.pkl', 'rb')\n",
    "        pipe_rf = pickle.load(file_rf)\n",
    "    else:\n",
    "        file_rf = open('./data/pipe_rf.pkl', 'wb')\n",
    "        pipe_rf = Pipeline([('vect', CountVectorizer(analyzer = 'char_wb', ngram_range=(2,6))),\n",
    "                            ('tfidf', TfidfTransformer()),\n",
    "                            ('clf', RandomForestClassifier(n_estimators=10, n_jobs=-1))])        \n",
    "        dataset = load_data(dataset)\n",
    "        pipe_rf = pipe_rf.fit(dataset[0].ravel(), dataset[2].ravel())\n",
    "        pickle.dump(pipe_rf, file_rf)\n",
    "\n",
    "        #Akurasi\n",
    "        predicted = pipe_rf.predict(dataset[1].ravel())\n",
    "        Akurasi = np.mean(predicted == dataset[3].ravel())*100\n",
    "        print(\"Akurasi :\", Akurasi, \"%\")\n",
    "    \n",
    "    return pipe_rf.predict([name])[0]"
   ]
  },
  {
   "cell_type": "code",
   "execution_count": 22,
   "metadata": {},
   "outputs": [],
   "source": [
    "import pandas as pd                 # pandas is a dataframe library\n",
    "df = pd.read_csv(\"./data/data.csv\", encoding = 'utf-8-sig')"
   ]
  },
  {
   "cell_type": "code",
   "execution_count": 23,
   "metadata": {},
   "outputs": [
    {
     "data": {
      "text/plain": [
       "(10, 2)"
      ]
     },
     "execution_count": 23,
     "metadata": {},
     "output_type": "execute_result"
    }
   ],
   "source": [
    "df.shape"
   ]
  },
  {
   "cell_type": "code",
   "execution_count": 24,
   "metadata": {},
   "outputs": [
    {
     "data": {
      "text/html": [
       "<div>\n",
       "<style scoped>\n",
       "    .dataframe tbody tr th:only-of-type {\n",
       "        vertical-align: middle;\n",
       "    }\n",
       "\n",
       "    .dataframe tbody tr th {\n",
       "        vertical-align: top;\n",
       "    }\n",
       "\n",
       "    .dataframe thead th {\n",
       "        text-align: right;\n",
       "    }\n",
       "</style>\n",
       "<table border=\"1\" class=\"dataframe\">\n",
       "  <thead>\n",
       "    <tr style=\"text-align: right;\">\n",
       "      <th></th>\n",
       "      <th>nama</th>\n",
       "      <th>jenis_kelamin</th>\n",
       "    </tr>\n",
       "  </thead>\n",
       "  <tbody>\n",
       "    <tr>\n",
       "      <th>0</th>\n",
       "      <td>Kim Taehyung</td>\n",
       "      <td>Laki-Laki</td>\n",
       "    </tr>\n",
       "    <tr>\n",
       "      <th>1</th>\n",
       "      <td>Park Jimin</td>\n",
       "      <td>Laki-Laki</td>\n",
       "    </tr>\n",
       "    <tr>\n",
       "      <th>2</th>\n",
       "      <td>Choi Siwon</td>\n",
       "      <td>Laki-Laki</td>\n",
       "    </tr>\n",
       "    <tr>\n",
       "      <th>3</th>\n",
       "      <td>Rani</td>\n",
       "      <td>Perempuan</td>\n",
       "    </tr>\n",
       "    <tr>\n",
       "      <th>4</th>\n",
       "      <td>Riza</td>\n",
       "      <td>Perempuan</td>\n",
       "    </tr>\n",
       "  </tbody>\n",
       "</table>\n",
       "</div>"
      ],
      "text/plain": [
       "           nama jenis_kelamin\n",
       "0  Kim Taehyung     Laki-Laki\n",
       "1    Park Jimin     Laki-Laki\n",
       "2    Choi Siwon     Laki-Laki\n",
       "3          Rani     Perempuan\n",
       "4          Riza     Perempuan"
      ]
     },
     "execution_count": 24,
     "metadata": {},
     "output_type": "execute_result"
    }
   ],
   "source": [
    "df.head(5)"
   ]
  },
  {
   "cell_type": "code",
   "execution_count": 25,
   "metadata": {},
   "outputs": [
    {
     "data": {
      "text/html": [
       "<div>\n",
       "<style scoped>\n",
       "    .dataframe tbody tr th:only-of-type {\n",
       "        vertical-align: middle;\n",
       "    }\n",
       "\n",
       "    .dataframe tbody tr th {\n",
       "        vertical-align: top;\n",
       "    }\n",
       "\n",
       "    .dataframe thead th {\n",
       "        text-align: right;\n",
       "    }\n",
       "</style>\n",
       "<table border=\"1\" class=\"dataframe\">\n",
       "  <thead>\n",
       "    <tr style=\"text-align: right;\">\n",
       "      <th></th>\n",
       "      <th>nama</th>\n",
       "      <th>jenis_kelamin</th>\n",
       "    </tr>\n",
       "  </thead>\n",
       "  <tbody>\n",
       "    <tr>\n",
       "      <th>5</th>\n",
       "      <td>Nura</td>\n",
       "      <td>Perempuan</td>\n",
       "    </tr>\n",
       "    <tr>\n",
       "      <th>6</th>\n",
       "      <td>Soraya</td>\n",
       "      <td>Perempuan</td>\n",
       "    </tr>\n",
       "    <tr>\n",
       "      <th>7</th>\n",
       "      <td>Nazif</td>\n",
       "      <td>Laki-laki</td>\n",
       "    </tr>\n",
       "    <tr>\n",
       "      <th>8</th>\n",
       "      <td>Dilla</td>\n",
       "      <td>Perempuan</td>\n",
       "    </tr>\n",
       "    <tr>\n",
       "      <th>9</th>\n",
       "      <td>Justin</td>\n",
       "      <td>Laki-laki</td>\n",
       "    </tr>\n",
       "  </tbody>\n",
       "</table>\n",
       "</div>"
      ],
      "text/plain": [
       "     nama jenis_kelamin\n",
       "5    Nura     Perempuan\n",
       "6  Soraya     Perempuan\n",
       "7   Nazif     Laki-laki\n",
       "8   Dilla     Perempuan\n",
       "9  Justin     Laki-laki"
      ]
     },
     "execution_count": 25,
     "metadata": {},
     "output_type": "execute_result"
    }
   ],
   "source": [
    "df.tail(5)"
   ]
  },
  {
   "cell_type": "code",
   "execution_count": null,
   "metadata": {},
   "outputs": [],
   "source": []
  }
 ],
 "metadata": {
  "kernelspec": {
   "display_name": "Python 3",
   "language": "python",
   "name": "python3"
  },
  "language_info": {
   "codemirror_mode": {
    "name": "ipython",
    "version": 3
   },
   "file_extension": ".py",
   "mimetype": "text/x-python",
   "name": "python",
   "nbconvert_exporter": "python",
   "pygments_lexer": "ipython3",
   "version": "3.8.5"
  }
 },
 "nbformat": 4,
 "nbformat_minor": 4
}
